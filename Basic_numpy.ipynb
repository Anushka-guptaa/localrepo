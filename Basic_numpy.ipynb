{
  "nbformat": 4,
  "nbformat_minor": 0,
  "metadata": {
    "colab": {
      "provenance": [],
      "authorship_tag": "ABX9TyMqBHSg7H92aABSQys7MFgw",
      "include_colab_link": true
    },
    "kernelspec": {
      "name": "python3",
      "display_name": "Python 3"
    },
    "language_info": {
      "name": "python"
    }
  },
  "cells": [
    {
      "cell_type": "markdown",
      "metadata": {
        "id": "view-in-github",
        "colab_type": "text"
      },
      "source": [
        "<a href=\"https://colab.research.google.com/github/Anushka-guptaa/localrepo/blob/main/Basic_numpy.ipynb\" target=\"_parent\"><img src=\"https://colab.research.google.com/assets/colab-badge.svg\" alt=\"Open In Colab\"/></a>"
      ]
    },
    {
      "cell_type": "code",
      "execution_count": 6,
      "metadata": {
        "colab": {
          "base_uri": "https://localhost:8080/"
        },
        "id": "SpkGKiIIMu2i",
        "outputId": "0cc589a7-8d19-46b2-dd10-e4e467e2cf64"
      },
      "outputs": [
        {
          "output_type": "execute_result",
          "data": {
            "text/plain": [
              "array([5, 4, 6, 3, 2, 1])"
            ]
          },
          "metadata": {},
          "execution_count": 6
        }
      ],
      "source": [
        "import numpy as np\n",
        "# Reversing array 1.a)\n",
        "arr = np.array([1, 2, 3, 6, 4, 5])\n",
        "np.flip(arr)\n",
        "#same for 2d array"
      ]
    },
    {
      "cell_type": "code",
      "source": [
        "array1 = np.array([[1, 2, 3], [2, 4, 5], [1, 2, 3]])\n",
        "flattened_arr = np.ravel(array1)\n",
        "\n",
        "print(\"Original array:\")\n",
        "print(array1)\n",
        "print(\"\\nFlattened array:\",flattened_arr)"
      ],
      "metadata": {
        "colab": {
          "base_uri": "https://localhost:8080/"
        },
        "id": "4BqYMT3mNwyq",
        "outputId": "07cbe008-a5be-4a74-9444-405b1d9e31c3"
      },
      "execution_count": 7,
      "outputs": [
        {
          "output_type": "stream",
          "name": "stdout",
          "text": [
            "Original array:\n",
            "[[1 2 3]\n",
            " [2 4 5]\n",
            " [1 2 3]]\n",
            "\n",
            "Flattened array: [1 2 3 2 4 5 1 2 3]\n"
          ]
        }
      ]
    },
    {
      "cell_type": "code",
      "source": [
        "# Comparing determines whether they are equivalent by checking if every element at each index is the same.\n",
        "arr1 = np.array([[1, 2], [3, 4]])\n",
        "arr2 = np.array([[1, 2], [3, 4]])\n",
        "comparison = arr1 == arr2\n",
        "equal_arrays = comparison.all()\n",
        "\n",
        "print(equal_arrays)\n"
      ],
      "metadata": {
        "colab": {
          "base_uri": "https://localhost:8080/"
        },
        "id": "zk9DQsDfPQsv",
        "outputId": "2e7a2118-ec0e-477f-fb2a-819fd3fe14f4"
      },
      "execution_count": 8,
      "outputs": [
        {
          "output_type": "stream",
          "name": "stdout",
          "text": [
            "True\n"
          ]
        }
      ]
    },
    {
      "cell_type": "code",
      "source": [
        "x = np.array([1, 2, 3, 4, 5, 1, 2, 1, 1, 1])\n",
        "\n",
        "# Find the most frequent value using np.bincount + argmax\n",
        "most_freq = np.bincount(x).argmax()\n",
        "\n",
        "# Find the indices where this value occurs\n",
        "indices = np.where(x == most_freq)[0]\n",
        "\n",
        "print(\"Most frequent value:\", most_freq)\n",
        "print(\"Indices:\", indices)"
      ],
      "metadata": {
        "colab": {
          "base_uri": "https://localhost:8080/"
        },
        "id": "0rC2VOzXMKtM",
        "outputId": "7768dc6a-ac73-431b-dc34-22a86eb374dd"
      },
      "execution_count": 9,
      "outputs": [
        {
          "output_type": "stream",
          "name": "stdout",
          "text": [
            "Most frequent value: 1\n",
            "Indices: [0 5 7 8 9]\n"
          ]
        }
      ]
    },
    {
      "cell_type": "code",
      "source": [
        "gfg = np.matrix('[4, 1, 9; 12, 3, 1; 4, 5, 6]')\n",
        "\n",
        "# 1. Sum of all elements\n",
        "total_sum = gfg.sum()\n",
        "\n",
        "# 2. Row-wise sum (axis=1)\n",
        "row_sum = gfg.sum(axis=1)\n",
        "\n",
        "# 3. Column-wise sum (axis=0)\n",
        "col_sum = gfg.sum(axis=0)\n",
        "\n",
        "print(\"Total sum of elements:\", total_sum)\n",
        "print(\"Row-wise sum:\\n\", row_sum)\n",
        "print(\"Column-wise sum:\\n\", col_sum)\n"
      ],
      "metadata": {
        "colab": {
          "base_uri": "https://localhost:8080/"
        },
        "id": "8vQL2YUxOPvC",
        "outputId": "30dd8daa-c09b-4ac5-cf6a-943f2742615d"
      },
      "execution_count": 10,
      "outputs": [
        {
          "output_type": "stream",
          "name": "stdout",
          "text": [
            "Total sum of elements: 45\n",
            "Row-wise sum:\n",
            " [[14]\n",
            " [16]\n",
            " [15]]\n",
            "Column-wise sum:\n",
            " [[20  9 16]]\n"
          ]
        }
      ]
    },
    {
      "cell_type": "code",
      "source": [
        "n_array = np.array([\n",
        "    [55, 25, 15],\n",
        "    [30, 44, 2],\n",
        "    [11, 45, 77]\n",
        "])\n",
        "\n",
        "# i. Sum of diagonal elements\n",
        "diagonal_sum = np.trace(n_array)\n",
        "\n",
        "# ii. Eigenvalues\n",
        "eigen_values, eigen_vectors = np.linalg.eig(n_array)\n",
        "\n",
        "# iii. Eigenvectors (already calculated above)\n",
        "\n",
        "# iv. Inverse of matrix\n",
        "inverse_matrix = np.linalg.inv(n_array)\n",
        "\n",
        "# v. Determinant\n",
        "determinant = np.linalg.det(n_array)\n",
        "\n",
        "print(\"Original Matrix:\\n\", n_array)\n",
        "print(\"\\nSum of Diagonal Elements:\", diagonal_sum)\n",
        "print(\"\\nEigenvalues:\\n\", eigen_values)\n",
        "print(\"\\nEigenvectors:\\n\", eigen_vectors)\n",
        "print(\"\\nInverse of Matrix:\\n\", inverse_matrix)\n",
        "print(\"\\nDeterminant of Matrix:\", determinant)\n"
      ],
      "metadata": {
        "colab": {
          "base_uri": "https://localhost:8080/"
        },
        "id": "8DzorxFIOlD2",
        "outputId": "7fb2f365-f366-4e46-f9a2-b5212b9679c3"
      },
      "execution_count": 11,
      "outputs": [
        {
          "output_type": "stream",
          "name": "stdout",
          "text": [
            "Original Matrix:\n",
            " [[55 25 15]\n",
            " [30 44  2]\n",
            " [11 45 77]]\n",
            "\n",
            "Sum of Diagonal Elements: 176\n",
            "\n",
            "Eigenvalues:\n",
            " [98.16835147 28.097044   49.73460452]\n",
            "\n",
            "Eigenvectors:\n",
            " [[ 0.4574917   0.34637121 -0.15017693]\n",
            " [ 0.28447814 -0.72784061 -0.4852124 ]\n",
            " [ 0.84248058  0.59184038  0.8614034 ]]\n",
            "\n",
            "Inverse of Matrix:\n",
            " [[ 0.02404141 -0.00911212 -0.00444671]\n",
            " [-0.01667882  0.02966905  0.0024785 ]\n",
            " [ 0.00631287 -0.01603732  0.01217379]]\n",
            "\n",
            "Determinant of Matrix: 137180.0000000001\n"
          ]
        }
      ]
    },
    {
      "cell_type": "code",
      "source": [
        "p1 = np.array([[1, 2], [2, 3]])\n",
        "q1 = np.array([[4, 5], [6, 7]])\n",
        "\n",
        "# Matrix multiplication\n",
        "mul1 = np.dot(p1, q1)\n",
        "\n",
        "# Covariance (each row is a variable, so transpose)\n",
        "cov1 = np.cov(p1.T, q1.T)\n",
        "\n",
        "print(\"Matrix Multiplication (2x2):\\n\", mul1)\n",
        "print(\"\\nCovariance:\\n\", cov1)\n"
      ],
      "metadata": {
        "colab": {
          "base_uri": "https://localhost:8080/"
        },
        "id": "C6RaYoF6PkJf",
        "outputId": "25f0528b-1216-49a0-f6fb-e19e70f2ac50"
      },
      "execution_count": 12,
      "outputs": [
        {
          "output_type": "stream",
          "name": "stdout",
          "text": [
            "Matrix Multiplication (2x2):\n",
            " [[16 19]\n",
            " [26 31]]\n",
            "\n",
            "Covariance:\n",
            " [[0.5 0.5 1.  1. ]\n",
            " [0.5 0.5 1.  1. ]\n",
            " [1.  1.  2.  2. ]\n",
            " [1.  1.  2.  2. ]]\n"
          ]
        }
      ]
    },
    {
      "cell_type": "code",
      "source": [
        "p2 = np.array([[1, 2], [2, 3], [4, 5]])\n",
        "q2 = np.array([[4, 5, 1], [6, 7, 2]])\n",
        "\n",
        "# Matrix multiplication\n",
        "mul2 = np.dot(p2, q2)\n",
        "\n",
        "# Covariance (each column is a variable)\n",
        "combined = np.vstack((p2.T, q2))  # shape: (4, n)\n",
        "cov2 = np.cov(combined)\n",
        "\n",
        "print(\"Matrix Multiplication (3x2 * 2x3):\\n\", mul2)\n",
        "print(\"\\nCovariance:\\n\", cov2)\n"
      ],
      "metadata": {
        "colab": {
          "base_uri": "https://localhost:8080/"
        },
        "id": "Q9ZkMLVvPqX8",
        "outputId": "432e3810-cfc9-4751-b7f0-749017eb3196"
      },
      "execution_count": 13,
      "outputs": [
        {
          "output_type": "stream",
          "name": "stdout",
          "text": [
            "Matrix Multiplication (3x2 * 2x3):\n",
            " [[16 19  5]\n",
            " [26 31  8]\n",
            " [46 55 14]]\n",
            "\n",
            "Covariance:\n",
            " [[ 2.33333333  2.33333333 -2.66666667 -3.5       ]\n",
            " [ 2.33333333  2.33333333 -2.66666667 -3.5       ]\n",
            " [-2.66666667 -2.66666667  4.33333333  5.5       ]\n",
            " [-3.5        -3.5         5.5         7.        ]]\n"
          ]
        }
      ]
    },
    {
      "cell_type": "code",
      "source": [
        "x = np.array([[2, 3, 4], [3, 2, 9]])\n",
        "y = np.array([[1, 5, 0], [5, 10, 3]])\n",
        "\n",
        "# Inner product: pairwise dot products for each row\n",
        "inner = np.inner(x, y)\n",
        "\n",
        "# Outer product: flatten x and y first\n",
        "outer = np.outer(x.flatten(), y.flatten())\n",
        "\n",
        "# Cartesian product\n",
        "cartesian = np.array([[i, j] for i in x.flatten() for j in y.flatten()])\n",
        "\n",
        "print(\"Inner Product:\\n\", inner)\n",
        "print(\"\\nOuter Product:\\n\", outer)\n",
        "print(\"\\nCartesian Product:\\n\", cartesian)\n"
      ],
      "metadata": {
        "colab": {
          "base_uri": "https://localhost:8080/"
        },
        "id": "lP6yrkgWPqa6",
        "outputId": "18a3341a-3314-4936-899d-44ef17044573"
      },
      "execution_count": 14,
      "outputs": [
        {
          "output_type": "stream",
          "name": "stdout",
          "text": [
            "Inner Product:\n",
            " [[17 52]\n",
            " [13 62]]\n",
            "\n",
            "Outer Product:\n",
            " [[ 2 10  0 10 20  6]\n",
            " [ 3 15  0 15 30  9]\n",
            " [ 4 20  0 20 40 12]\n",
            " [ 3 15  0 15 30  9]\n",
            " [ 2 10  0 10 20  6]\n",
            " [ 9 45  0 45 90 27]]\n",
            "\n",
            "Cartesian Product:\n",
            " [[ 2  1]\n",
            " [ 2  5]\n",
            " [ 2  0]\n",
            " [ 2  5]\n",
            " [ 2 10]\n",
            " [ 2  3]\n",
            " [ 3  1]\n",
            " [ 3  5]\n",
            " [ 3  0]\n",
            " [ 3  5]\n",
            " [ 3 10]\n",
            " [ 3  3]\n",
            " [ 4  1]\n",
            " [ 4  5]\n",
            " [ 4  0]\n",
            " [ 4  5]\n",
            " [ 4 10]\n",
            " [ 4  3]\n",
            " [ 3  1]\n",
            " [ 3  5]\n",
            " [ 3  0]\n",
            " [ 3  5]\n",
            " [ 3 10]\n",
            " [ 3  3]\n",
            " [ 2  1]\n",
            " [ 2  5]\n",
            " [ 2  0]\n",
            " [ 2  5]\n",
            " [ 2 10]\n",
            " [ 2  3]\n",
            " [ 9  1]\n",
            " [ 9  5]\n",
            " [ 9  0]\n",
            " [ 9  5]\n",
            " [ 9 10]\n",
            " [ 9  3]]\n"
          ]
        }
      ]
    },
    {
      "cell_type": "code",
      "source": [
        "array = np.array([[1, -2, 3], [-4, 5, -6]])\n",
        "\n",
        "# i. Element-wise absolute value\n",
        "abs_array = np.abs(array)\n",
        "\n",
        "# ii. Percentiles (flattened, by column, by row)\n",
        "flattened = array.flatten()\n",
        "\n",
        "percentile_flat = np.percentile(flattened, [25, 50, 75])\n",
        "percentile_col = np.percentile(array, [25, 50, 75], axis=0)\n",
        "percentile_row = np.percentile(array, [25, 50, 75], axis=1)\n",
        "\n",
        "# iii. Mean, Median, Std\n",
        "mean_flat = np.mean(flattened)\n",
        "median_flat = np.median(flattened)\n",
        "std_flat = np.std(flattened)\n",
        "\n",
        "mean_col = np.mean(array, axis=0)\n",
        "median_col = np.median(array, axis=0)\n",
        "std_col = np.std(array, axis=0)\n",
        "\n",
        "mean_row = np.mean(array, axis=1)\n",
        "median_row = np.median(array, axis=1)\n",
        "std_row = np.std(array, axis=1)\n",
        "\n",
        "# Output\n",
        "print(\"Original Array:\\n\", array)\n",
        "print(\"\\nAbsolute Values:\\n\", abs_array)\n",
        "\n",
        "print(\"\\nPercentiles (Flattened 25, 50, 75):\", percentile_flat)\n",
        "print(\"Percentiles by Column:\\n\", percentile_col)\n",
        "print(\"Percentiles by Row:\\n\", percentile_row)\n",
        "\n",
        "print(\"\\nMean (Flat):\", mean_flat)\n",
        "print(\"Median (Flat):\", median_flat)\n",
        "print(\"Std Dev (Flat):\", std_flat)\n",
        "\n",
        "print(\"\\nMean by Column:\", mean_col)\n",
        "print(\"Median by Column:\", median_col)\n",
        "print(\"Std Dev by Column:\", std_col)\n",
        "\n",
        "print(\"\\nMean by Row:\", mean_row)\n",
        "print(\"Median by Row:\", median_row)\n",
        "print(\"Std Dev by Row:\", std_row)\n"
      ],
      "metadata": {
        "colab": {
          "base_uri": "https://localhost:8080/"
        },
        "id": "BA85XBERP5lX",
        "outputId": "6d29ba90-3f61-41e2-dc76-1d7f534b5a36"
      },
      "execution_count": 15,
      "outputs": [
        {
          "output_type": "stream",
          "name": "stdout",
          "text": [
            "Original Array:\n",
            " [[ 1 -2  3]\n",
            " [-4  5 -6]]\n",
            "\n",
            "Absolute Values:\n",
            " [[1 2 3]\n",
            " [4 5 6]]\n",
            "\n",
            "Percentiles (Flattened 25, 50, 75): [-3.5 -0.5  2.5]\n",
            "Percentiles by Column:\n",
            " [[-2.75 -0.25 -3.75]\n",
            " [-1.5   1.5  -1.5 ]\n",
            " [-0.25  3.25  0.75]]\n",
            "Percentiles by Row:\n",
            " [[-0.5 -5. ]\n",
            " [ 1.  -4. ]\n",
            " [ 2.   0.5]]\n",
            "\n",
            "Mean (Flat): -0.5\n",
            "Median (Flat): -0.5\n",
            "Std Dev (Flat): 3.8622100754188224\n",
            "\n",
            "Mean by Column: [-1.5  1.5 -1.5]\n",
            "Median by Column: [-1.5  1.5 -1.5]\n",
            "Std Dev by Column: [2.5 3.5 4.5]\n",
            "\n",
            "Mean by Row: [ 0.66666667 -1.66666667]\n",
            "Median by Row: [ 1. -4.]\n",
            "Std Dev by Row: [2.05480467 4.78423336]\n"
          ]
        }
      ]
    },
    {
      "cell_type": "code",
      "source": [
        "a = np.array([-1.8, -1.6, -0.5, 0.5, 1.6, 1.8, 3.0])\n",
        "\n",
        "floors = np.floor(a)\n",
        "ceils = np.ceil(a)\n",
        "truncs = np.trunc(a)\n",
        "rounded = np.round(a)\n",
        "\n",
        "print(\"Original Array:\\n\", a)\n",
        "print(\"\\nFloor:\\n\", floors)\n",
        "print(\"Ceiling:\\n\", ceils)\n",
        "print(\"Truncated:\\n\", truncs)\n",
        "print(\"Rounded:\\n\", rounded)\n"
      ],
      "metadata": {
        "colab": {
          "base_uri": "https://localhost:8080/"
        },
        "id": "bQxEwtpfP5nS",
        "outputId": "1e2f8c77-4ccf-4b98-8cd4-07393af5eabd"
      },
      "execution_count": 16,
      "outputs": [
        {
          "output_type": "stream",
          "name": "stdout",
          "text": [
            "Original Array:\n",
            " [-1.8 -1.6 -0.5  0.5  1.6  1.8  3. ]\n",
            "\n",
            "Floor:\n",
            " [-2. -2. -1.  0.  1.  1.  3.]\n",
            "Ceiling:\n",
            " [-1. -1. -0.  1.  2.  2.  3.]\n",
            "Truncated:\n",
            " [-1. -1. -0.  0.  1.  1.  3.]\n",
            "Rounded:\n",
            " [-2. -2. -0.  0.  2.  2.  3.]\n"
          ]
        }
      ]
    },
    {
      "cell_type": "code",
      "source": [
        "array = np.array([10, 52, 62, 16, 16, 54, 453])\n",
        "\n",
        "# i. Sorted array\n",
        "sorted_array = np.sort(array)\n",
        "\n",
        "# ii. Indices of sorted array (argsort returns original indices)\n",
        "sorted_indices = np.argsort(array)\n",
        "\n",
        "# iii. 4 smallest elements\n",
        "smallest_4 = np.sort(array)[:4]\n",
        "\n",
        "# iv. 5 largest elements\n",
        "largest_5 = np.sort(array)[-5:]\n",
        "\n",
        "print(\"Original Array:\", array)\n",
        "print(\"Sorted Array:\", sorted_array)\n",
        "print(\"Indices of Sorted Array:\", sorted_indices)\n",
        "print(\"4 Smallest Elements:\", smallest_4)\n",
        "print(\"5 Largest Elements:\", largest_5)"
      ],
      "metadata": {
        "colab": {
          "base_uri": "https://localhost:8080/"
        },
        "id": "W12THMyCP5qW",
        "outputId": "73f20c8a-40cd-4e1c-ba14-ac281ec36462"
      },
      "execution_count": 17,
      "outputs": [
        {
          "output_type": "stream",
          "name": "stdout",
          "text": [
            "Original Array: [ 10  52  62  16  16  54 453]\n",
            "Sorted Array: [ 10  16  16  52  54  62 453]\n",
            "Indices of Sorted Array: [0 3 4 1 5 2 6]\n",
            "4 Smallest Elements: [10 16 16 52]\n",
            "5 Largest Elements: [ 16  52  54  62 453]\n"
          ]
        }
      ]
    },
    {
      "cell_type": "code",
      "source": [
        "array = np.array([1.0, 1.2, 2.2, 2.0, 3.0, 2.0])\n",
        "\n",
        "# i. Integer elements only\n",
        "int_elements = array[array == array.astype(int)]\n",
        "\n",
        "# ii. Float elements only (not whole numbers)\n",
        "float_elements = array[array != array.astype(int)]\n",
        "\n",
        "print(\"Original Array:\", array)\n",
        "print(\"Integer Elements Only:\", int_elements)\n",
        "print(\"Float (Non-Integer) Elements Only:\", float_elements)\n"
      ],
      "metadata": {
        "colab": {
          "base_uri": "https://localhost:8080/"
        },
        "id": "a0qVhtn0QWFx",
        "outputId": "47891453-9fec-4d39-8999-a852ced9d51f"
      },
      "execution_count": 18,
      "outputs": [
        {
          "output_type": "stream",
          "name": "stdout",
          "text": [
            "Original Array: [1.  1.2 2.2 2.  3.  2. ]\n",
            "Integer Elements Only: [1. 2. 3. 2.]\n",
            "Float (Non-Integer) Elements Only: [1.2 2.2]\n"
          ]
        }
      ]
    },
    {
      "cell_type": "code",
      "source": [
        "pip install pillow\n"
      ],
      "metadata": {
        "colab": {
          "base_uri": "https://localhost:8080/"
        },
        "id": "ybmX0GYbQWH2",
        "outputId": "c6a06f14-e5ba-4702-c07d-202b73034093"
      },
      "execution_count": 19,
      "outputs": [
        {
          "output_type": "stream",
          "name": "stdout",
          "text": [
            "Requirement already satisfied: pillow in /usr/local/lib/python3.11/dist-packages (11.3.0)\n"
          ]
        }
      ]
    },
    {
      "cell_type": "code",
      "source": [
        "from PIL import Image\n",
        "import numpy as np\n",
        "\n",
        "def img_to_array(path):\n",
        "    img = Image.open(path)\n",
        "    img_array = np.array(img)\n",
        "\n",
        "    if len(img_array.shape) == 2:\n",
        "        print(\"Grayscale image detected.\")\n",
        "    else:\n",
        "        print(\"RGB image detected.\")\n",
        "\n",
        "    np.savetxt(\"image_data.txt\", img_array.reshape(-1, img_array.shape[-1])\n",
        "               if len(img_array.shape) == 3 else img_array, fmt='%d')\n",
        "\n",
        "    print(\"Image data saved to image_data.txt\")\n"
      ],
      "metadata": {
        "id": "dR63cexLQWKJ"
      },
      "execution_count": 20,
      "outputs": []
    },
    {
      "cell_type": "code",
      "source": [
        "# For grayscale:\n",
        "grayscale_array = np.loadtxt(\"image_data.txt\", dtype=int)\n",
        "\n",
        "# For RGB (if reshaped flat during saving):\n",
        "rgb_array = np.loadtxt(\"image_data.txt\", dtype=int).reshape(height, width, 3)\n",
        "# 🔺 You'll need to manually know the original height & width\n",
        "\n",
        "print(\"Grayscale or RGB image array:\\n\", grayscale_array or rgb_array)\n"
      ],
      "metadata": {
        "colab": {
          "base_uri": "https://localhost:8080/",
          "height": 356
        },
        "id": "5774zZ-KQWMx",
        "outputId": "8802462a-ecd2-4c83-ede3-b501647bc73c"
      },
      "execution_count": 21,
      "outputs": [
        {
          "output_type": "error",
          "ename": "FileNotFoundError",
          "evalue": "image_data.txt not found.",
          "traceback": [
            "\u001b[0;31m---------------------------------------------------------------------------\u001b[0m",
            "\u001b[0;31mFileNotFoundError\u001b[0m                         Traceback (most recent call last)",
            "\u001b[0;32m/tmp/ipython-input-4222511870.py\u001b[0m in \u001b[0;36m<cell line: 0>\u001b[0;34m()\u001b[0m\n\u001b[1;32m      1\u001b[0m \u001b[0;31m# For grayscale:\u001b[0m\u001b[0;34m\u001b[0m\u001b[0;34m\u001b[0m\u001b[0m\n\u001b[0;32m----> 2\u001b[0;31m \u001b[0mgrayscale_array\u001b[0m \u001b[0;34m=\u001b[0m \u001b[0mnp\u001b[0m\u001b[0;34m.\u001b[0m\u001b[0mloadtxt\u001b[0m\u001b[0;34m(\u001b[0m\u001b[0;34m\"image_data.txt\"\u001b[0m\u001b[0;34m,\u001b[0m \u001b[0mdtype\u001b[0m\u001b[0;34m=\u001b[0m\u001b[0mint\u001b[0m\u001b[0;34m)\u001b[0m\u001b[0;34m\u001b[0m\u001b[0;34m\u001b[0m\u001b[0m\n\u001b[0m\u001b[1;32m      3\u001b[0m \u001b[0;34m\u001b[0m\u001b[0m\n\u001b[1;32m      4\u001b[0m \u001b[0;31m# For RGB (if reshaped flat during saving):\u001b[0m\u001b[0;34m\u001b[0m\u001b[0;34m\u001b[0m\u001b[0m\n\u001b[1;32m      5\u001b[0m \u001b[0mrgb_array\u001b[0m \u001b[0;34m=\u001b[0m \u001b[0mnp\u001b[0m\u001b[0;34m.\u001b[0m\u001b[0mloadtxt\u001b[0m\u001b[0;34m(\u001b[0m\u001b[0;34m\"image_data.txt\"\u001b[0m\u001b[0;34m,\u001b[0m \u001b[0mdtype\u001b[0m\u001b[0;34m=\u001b[0m\u001b[0mint\u001b[0m\u001b[0;34m)\u001b[0m\u001b[0;34m.\u001b[0m\u001b[0mreshape\u001b[0m\u001b[0;34m(\u001b[0m\u001b[0mheight\u001b[0m\u001b[0;34m,\u001b[0m \u001b[0mwidth\u001b[0m\u001b[0;34m,\u001b[0m \u001b[0;36m3\u001b[0m\u001b[0;34m)\u001b[0m\u001b[0;34m\u001b[0m\u001b[0;34m\u001b[0m\u001b[0m\n",
            "\u001b[0;32m/usr/local/lib/python3.11/dist-packages/numpy/lib/_npyio_impl.py\u001b[0m in \u001b[0;36mloadtxt\u001b[0;34m(fname, dtype, comments, delimiter, converters, skiprows, usecols, unpack, ndmin, encoding, max_rows, quotechar, like)\u001b[0m\n\u001b[1;32m   1379\u001b[0m         \u001b[0mdelimiter\u001b[0m \u001b[0;34m=\u001b[0m \u001b[0mdelimiter\u001b[0m\u001b[0;34m.\u001b[0m\u001b[0mdecode\u001b[0m\u001b[0;34m(\u001b[0m\u001b[0;34m'latin1'\u001b[0m\u001b[0;34m)\u001b[0m\u001b[0;34m\u001b[0m\u001b[0;34m\u001b[0m\u001b[0m\n\u001b[1;32m   1380\u001b[0m \u001b[0;34m\u001b[0m\u001b[0m\n\u001b[0;32m-> 1381\u001b[0;31m     arr = _read(fname, dtype=dtype, comment=comment, delimiter=delimiter,\n\u001b[0m\u001b[1;32m   1382\u001b[0m                 \u001b[0mconverters\u001b[0m\u001b[0;34m=\u001b[0m\u001b[0mconverters\u001b[0m\u001b[0;34m,\u001b[0m \u001b[0mskiplines\u001b[0m\u001b[0;34m=\u001b[0m\u001b[0mskiprows\u001b[0m\u001b[0;34m,\u001b[0m \u001b[0musecols\u001b[0m\u001b[0;34m=\u001b[0m\u001b[0musecols\u001b[0m\u001b[0;34m,\u001b[0m\u001b[0;34m\u001b[0m\u001b[0;34m\u001b[0m\u001b[0m\n\u001b[1;32m   1383\u001b[0m                 \u001b[0munpack\u001b[0m\u001b[0;34m=\u001b[0m\u001b[0munpack\u001b[0m\u001b[0;34m,\u001b[0m \u001b[0mndmin\u001b[0m\u001b[0;34m=\u001b[0m\u001b[0mndmin\u001b[0m\u001b[0;34m,\u001b[0m \u001b[0mencoding\u001b[0m\u001b[0;34m=\u001b[0m\u001b[0mencoding\u001b[0m\u001b[0;34m,\u001b[0m\u001b[0;34m\u001b[0m\u001b[0;34m\u001b[0m\u001b[0m\n",
            "\u001b[0;32m/usr/local/lib/python3.11/dist-packages/numpy/lib/_npyio_impl.py\u001b[0m in \u001b[0;36m_read\u001b[0;34m(fname, delimiter, comment, quote, imaginary_unit, usecols, skiplines, max_rows, converters, ndmin, unpack, dtype, encoding)\u001b[0m\n\u001b[1;32m    995\u001b[0m             \u001b[0mfname\u001b[0m \u001b[0;34m=\u001b[0m \u001b[0mos\u001b[0m\u001b[0;34m.\u001b[0m\u001b[0mfspath\u001b[0m\u001b[0;34m(\u001b[0m\u001b[0mfname\u001b[0m\u001b[0;34m)\u001b[0m\u001b[0;34m\u001b[0m\u001b[0;34m\u001b[0m\u001b[0m\n\u001b[1;32m    996\u001b[0m         \u001b[0;32mif\u001b[0m \u001b[0misinstance\u001b[0m\u001b[0;34m(\u001b[0m\u001b[0mfname\u001b[0m\u001b[0;34m,\u001b[0m \u001b[0mstr\u001b[0m\u001b[0;34m)\u001b[0m\u001b[0;34m:\u001b[0m\u001b[0;34m\u001b[0m\u001b[0;34m\u001b[0m\u001b[0m\n\u001b[0;32m--> 997\u001b[0;31m             \u001b[0mfh\u001b[0m \u001b[0;34m=\u001b[0m \u001b[0mnp\u001b[0m\u001b[0;34m.\u001b[0m\u001b[0mlib\u001b[0m\u001b[0;34m.\u001b[0m\u001b[0m_datasource\u001b[0m\u001b[0;34m.\u001b[0m\u001b[0mopen\u001b[0m\u001b[0;34m(\u001b[0m\u001b[0mfname\u001b[0m\u001b[0;34m,\u001b[0m \u001b[0;34m'rt'\u001b[0m\u001b[0;34m,\u001b[0m \u001b[0mencoding\u001b[0m\u001b[0;34m=\u001b[0m\u001b[0mencoding\u001b[0m\u001b[0;34m)\u001b[0m\u001b[0;34m\u001b[0m\u001b[0;34m\u001b[0m\u001b[0m\n\u001b[0m\u001b[1;32m    998\u001b[0m             \u001b[0;32mif\u001b[0m \u001b[0mencoding\u001b[0m \u001b[0;32mis\u001b[0m \u001b[0;32mNone\u001b[0m\u001b[0;34m:\u001b[0m\u001b[0;34m\u001b[0m\u001b[0;34m\u001b[0m\u001b[0m\n\u001b[1;32m    999\u001b[0m                 \u001b[0mencoding\u001b[0m \u001b[0;34m=\u001b[0m \u001b[0mgetattr\u001b[0m\u001b[0;34m(\u001b[0m\u001b[0mfh\u001b[0m\u001b[0;34m,\u001b[0m \u001b[0;34m'encoding'\u001b[0m\u001b[0;34m,\u001b[0m \u001b[0;34m'latin1'\u001b[0m\u001b[0;34m)\u001b[0m\u001b[0;34m\u001b[0m\u001b[0;34m\u001b[0m\u001b[0m\n",
            "\u001b[0;32m/usr/local/lib/python3.11/dist-packages/numpy/lib/_datasource.py\u001b[0m in \u001b[0;36mopen\u001b[0;34m(path, mode, destpath, encoding, newline)\u001b[0m\n\u001b[1;32m    190\u001b[0m \u001b[0;34m\u001b[0m\u001b[0m\n\u001b[1;32m    191\u001b[0m     \u001b[0mds\u001b[0m \u001b[0;34m=\u001b[0m \u001b[0mDataSource\u001b[0m\u001b[0;34m(\u001b[0m\u001b[0mdestpath\u001b[0m\u001b[0;34m)\u001b[0m\u001b[0;34m\u001b[0m\u001b[0;34m\u001b[0m\u001b[0m\n\u001b[0;32m--> 192\u001b[0;31m     \u001b[0;32mreturn\u001b[0m \u001b[0mds\u001b[0m\u001b[0;34m.\u001b[0m\u001b[0mopen\u001b[0m\u001b[0;34m(\u001b[0m\u001b[0mpath\u001b[0m\u001b[0;34m,\u001b[0m \u001b[0mmode\u001b[0m\u001b[0;34m,\u001b[0m \u001b[0mencoding\u001b[0m\u001b[0;34m=\u001b[0m\u001b[0mencoding\u001b[0m\u001b[0;34m,\u001b[0m \u001b[0mnewline\u001b[0m\u001b[0;34m=\u001b[0m\u001b[0mnewline\u001b[0m\u001b[0;34m)\u001b[0m\u001b[0;34m\u001b[0m\u001b[0;34m\u001b[0m\u001b[0m\n\u001b[0m\u001b[1;32m    193\u001b[0m \u001b[0;34m\u001b[0m\u001b[0m\n\u001b[1;32m    194\u001b[0m \u001b[0;34m\u001b[0m\u001b[0m\n",
            "\u001b[0;32m/usr/local/lib/python3.11/dist-packages/numpy/lib/_datasource.py\u001b[0m in \u001b[0;36mopen\u001b[0;34m(self, path, mode, encoding, newline)\u001b[0m\n\u001b[1;32m    530\u001b[0m                                       encoding=encoding, newline=newline)\n\u001b[1;32m    531\u001b[0m         \u001b[0;32melse\u001b[0m\u001b[0;34m:\u001b[0m\u001b[0;34m\u001b[0m\u001b[0;34m\u001b[0m\u001b[0m\n\u001b[0;32m--> 532\u001b[0;31m             \u001b[0;32mraise\u001b[0m \u001b[0mFileNotFoundError\u001b[0m\u001b[0;34m(\u001b[0m\u001b[0;34mf\"{path} not found.\"\u001b[0m\u001b[0;34m)\u001b[0m\u001b[0;34m\u001b[0m\u001b[0;34m\u001b[0m\u001b[0m\n\u001b[0m\u001b[1;32m    533\u001b[0m \u001b[0;34m\u001b[0m\u001b[0m\n\u001b[1;32m    534\u001b[0m \u001b[0;34m\u001b[0m\u001b[0m\n",
            "\u001b[0;31mFileNotFoundError\u001b[0m: image_data.txt not found."
          ]
        }
      ]
    }
  ]
}